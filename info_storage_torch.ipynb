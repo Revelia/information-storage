{
 "cells": [
  {
   "cell_type": "code",
   "execution_count": 10,
   "id": "f15f2bd9",
   "metadata": {},
   "outputs": [],
   "source": [
    "import numpy as np\n",
    "from numpy import linalg\n",
    "import torch\n",
    "from torch import nn"
   ]
  },
  {
   "cell_type": "code",
   "execution_count": 11,
   "id": "13807ed2",
   "metadata": {},
   "outputs": [],
   "source": [
    "from functools import wraps\n",
    "import time\n",
    "\n",
    "\n",
    "def timeit(func):\n",
    "    \"\"\"\n",
    "    time-measure decorator\n",
    "    \"\"\"\n",
    "    @wraps(func)\n",
    "    def timeit_wrapper(*args, **kwargs):\n",
    "        start_time = time.perf_counter()\n",
    "        result = func(*args, **kwargs)\n",
    "        end_time = time.perf_counter()\n",
    "        total_time = end_time - start_time\n",
    "        print(f'Function {func.__name__} Took {total_time:.4f} seconds')\n",
    "        return result\n",
    "    return timeit_wrapper"
   ]
  },
  {
   "cell_type": "code",
   "execution_count": 12,
   "id": "f726e0de",
   "metadata": {},
   "outputs": [
    {
     "data": {
      "text/plain": [
       "True"
      ]
     },
     "execution_count": 12,
     "metadata": {},
     "output_type": "execute_result"
    }
   ],
   "source": [
    "torch.cuda.is_available() "
   ]
  },
  {
   "cell_type": "code",
   "execution_count": 13,
   "id": "f27aefb9",
   "metadata": {},
   "outputs": [],
   "source": [
    "\n",
    "\n",
    "def random_lowspec_matrix(shape):\n",
    "    \"\"\"\n",
    "    generate random matrix with spectral radius <=1, \n",
    "    Using the fact that if every element if matrix is less than\n",
    "    1/shape, then spectral radius <=1\n",
    "    \"\"\"\n",
    "    eps = 10 ** -3\n",
    "    shape_eps = shape + eps\n",
    "    return -2 / shape_eps * torch.rand(shape, shape) + 1 / shape_eps\n",
    "    \n",
    "\n",
    "def compute_omega(C, eps, spec=False):\n",
    "    \"\"\"\n",
    "    function to compute matrix omega from article (2) formula\n",
    "    Input:\n",
    "        C -- covatiance matrix with shape n x n\n",
    "        eps -- accuracy\n",
    "        spec -- if True, then calculate spectral radius before calculate power series \n",
    "    Output:\n",
    "        omgea -- calculated matrix limit (if exist) with shape n x n\n",
    "        \n",
    "    Raise exeption, if spectral radius is greater than 1\n",
    "    \n",
    "    power_vector -- tensor of shape (k,n,n), where power_vector[k,:,:] = C^k\n",
    "    \n",
    "    in case C = diag(a_1, a_2, ..., a_n) omega = diag(c_1, ..., c_n)\n",
    "    where c_i = sum k = 0 to inf a_1^(2k)\n",
    "    \"\"\"\n",
    "    \n",
    "    device = 'cuda' if torch.cuda.is_available() else 'cpu'\n",
    "    if spec:\n",
    "        spectral_norm = sorted(abs(linalg.eigvals(C.cpu())))[-1]\n",
    "        if spectral_norm >= 1:\n",
    "            raise ValueError(f\"Matrix C has spectral radius is equal {spectral_norm} greater than one\")\n",
    "        print(f\"spectral radius is equal {spectral_norm} \")\n",
    "        \n",
    "    C = C.to(device)\n",
    "    power_vector = torch.eye(C.shape[0]).to(device)[None,:,:]\n",
    "    dif = 1\n",
    "    omega_prev = torch.eye(C.shape[0]).to(device)\n",
    "    while (dif > eps):\n",
    "        power_vector = torch.cat((power_vector,power_vector[-1] @ C[None,:,:]), 0)\n",
    "        omega = torch.sum(torch.transpose(power_vector, 2, 1) @ power_vector, dim = 0)\n",
    "        dif = torch.norm(omega - omega_prev)\n",
    "        omega_prev = omega\n",
    "    return omega\n",
    "        \n",
    "        "
   ]
  },
  {
   "cell_type": "code",
   "execution_count": 14,
   "id": "d5282b58",
   "metadata": {},
   "outputs": [],
   "source": [
    "\n",
    "\n",
    "@timeit\n",
    "def calculate_info_storage(omega, C, eps):\n",
    "    \"\"\"\n",
    "    input:\n",
    "        omega: covariance matrix\n",
    "        C: weight matrix\n",
    "        eps: error\n",
    "    output:\n",
    "        A -- information storage\n",
    "    \n",
    "    M -- matrix (w/o number) from article, where zero dimension ~ k index(from article)\n",
    "    lag_vector -- tensor (Omega(0), Omega(1), Omega(2) , ... , Omega(n-1))\n",
    "    \n",
    "    \"\"\"\n",
    "    device = 'cuda' if torch.cuda.is_available() else 'cpu'\n",
    "    omega_diag = torch.diagonal(omega)\n",
    "    omega = omega.to(device)\n",
    "    C = C.to(device)\n",
    "    omega_vector = omega[None,:,:]\n",
    "    power_vector = torch.eye(C.shape[0]).to(device)[None,:,:]\n",
    "    diff = 1\n",
    "    M_det_prev = torch.ones(C.shape[0]).to(device)\n",
    "    A_prev = torch.ones(C.shape[0]).to(device)\n",
    "    it = 0\n",
    "    while (diff > eps):\n",
    "        it += 1\n",
    "        power_vector = torch.cat((power_vector,power_vector[-1] @ C[None,:,:]), 0)\n",
    "        omega_vector = torch.cat((omega_vector,omega[None,:,:]), 0)\n",
    "        n = omega_vector.shape[0]\n",
    "        lag_vector = omega_vector @ power_vector\n",
    "        \n",
    "        lag_vector_concated = torch.cat((lag_vector, torch.flip(lag_vector, [0])[:-1,:,:]), 0)\n",
    "        M = lag_vector_concated[None,:,:,:]\n",
    "\n",
    "        for i in range(n):\n",
    "            M = torch.cat((M ,torch.roll(lag_vector_concated, i+1, 0)[None,:,:,:]), 0)\n",
    "            \n",
    "        M = M[:n,:n,:,:]\n",
    "        M = torch.diagonal(M, dim1=-1, dim2=-2)\n",
    "        M = torch.permute(M, (2, 0, 1))\n",
    "        M_det = torch.det(M)\n",
    "        A = 1/2 * torch.log(torch.abs(omega_diag) * M_det / M_det_prev)\n",
    "        diff = torch.norm(A - A_prev)\n",
    "        M_det_prev = M_det\n",
    "        A_prev = A\n",
    "    print(f\"total iterations: {it}\")\n",
    "    return A"
   ]
  },
  {
   "cell_type": "code",
   "execution_count": 15,
   "id": "36ae7d34",
   "metadata": {},
   "outputs": [
    {
     "data": {
      "text/plain": [
       "tensor([[1.3333, 0.0000, 0.0000],\n",
       "        [0.0000, 1.3333, 0.0000],\n",
       "        [0.0000, 0.0000, 1.3333]], device='cuda:0')"
      ]
     },
     "execution_count": 15,
     "metadata": {},
     "output_type": "execute_result"
    }
   ],
   "source": [
    "C = torch.eye(3)*0.5\n",
    "#C = random_lowspec_matrix(500)\n",
    "omega = compute_omega(C, 0.0001)\n",
    "omega"
   ]
  },
  {
   "cell_type": "code",
   "execution_count": 16,
   "id": "d6f4c5e9",
   "metadata": {},
   "outputs": [
    {
     "name": "stdout",
     "output_type": "stream",
     "text": [
      "total iterations: 3\n",
      "Function calculate_info_storage Took 0.0068 seconds\n"
     ]
    },
    {
     "data": {
      "text/plain": [
       "tensor([0.1438, 0.1438, 0.1438], device='cuda:0')"
      ]
     },
     "execution_count": 16,
     "metadata": {},
     "output_type": "execute_result"
    }
   ],
   "source": [
    "calculate_info_storage(omega, C, 0.01)"
   ]
  },
  {
   "cell_type": "code",
   "execution_count": 17,
   "id": "9f821e6f",
   "metadata": {},
   "outputs": [
    {
     "data": {
      "text/plain": [
       "tensor([[ 1.0002e+00,  7.9137e-06,  1.6611e-07,  ..., -1.1928e-06,\n",
       "         -5.5055e-06,  6.8026e-06],\n",
       "        [ 7.9137e-06,  1.0002e+00,  8.5705e-06,  ...,  4.1680e-06,\n",
       "          3.3336e-06, -7.9577e-06],\n",
       "        [ 1.6611e-07,  8.5705e-06,  1.0002e+00,  ...,  2.4113e-06,\n",
       "          4.7408e-06, -3.4127e-06],\n",
       "        ...,\n",
       "        [-1.1928e-06,  4.1680e-06,  2.4113e-06,  ...,  1.0002e+00,\n",
       "          4.3697e-06, -8.6543e-07],\n",
       "        [-5.5055e-06,  3.3336e-06,  4.7408e-06,  ...,  4.3697e-06,\n",
       "          1.0002e+00,  2.8611e-06],\n",
       "        [ 6.8026e-06, -7.9577e-06, -3.4127e-06,  ..., -8.6543e-07,\n",
       "          2.8611e-06,  1.0002e+00]], device='cuda:0')"
      ]
     },
     "execution_count": 17,
     "metadata": {},
     "output_type": "execute_result"
    }
   ],
   "source": [
    "C = random_lowspec_matrix(1500)\n",
    "omega = compute_omega(C, 0.0001)\n",
    "omega"
   ]
  },
  {
   "cell_type": "code",
   "execution_count": 18,
   "id": "eb574992",
   "metadata": {},
   "outputs": [
    {
     "name": "stdout",
     "output_type": "stream",
     "text": [
      "total iterations: 3\n",
      "Function calculate_info_storage Took 0.1331 seconds\n"
     ]
    },
    {
     "data": {
      "text/plain": [
       "tensor([0.0002, 0.0002, 0.0002,  ..., 0.0002, 0.0002, 0.0002], device='cuda:0')"
      ]
     },
     "execution_count": 18,
     "metadata": {},
     "output_type": "execute_result"
    }
   ],
   "source": [
    "calculate_info_storage(omega, C, 0.001)"
   ]
  },
  {
   "cell_type": "code",
   "execution_count": null,
   "id": "e34021f4",
   "metadata": {},
   "outputs": [],
   "source": []
  },
  {
   "cell_type": "code",
   "execution_count": null,
   "id": "f8eaaf1d",
   "metadata": {},
   "outputs": [],
   "source": []
  }
 ],
 "metadata": {
  "kernelspec": {
   "display_name": "Python [conda env:torch]",
   "language": "python",
   "name": "conda-env-torch-py"
  },
  "language_info": {
   "codemirror_mode": {
    "name": "ipython",
    "version": 3
   },
   "file_extension": ".py",
   "mimetype": "text/x-python",
   "name": "python",
   "nbconvert_exporter": "python",
   "pygments_lexer": "ipython3",
   "version": "3.10.13"
  }
 },
 "nbformat": 4,
 "nbformat_minor": 5
}
